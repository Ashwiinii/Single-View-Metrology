{
 "cells": [
  {
   "cell_type": "code",
   "execution_count": 9,
   "id": "8c2b03b4",
   "metadata": {},
   "outputs": [],
   "source": [
    "import cv2\n",
    "import pandas as pd\n",
    "import numpy as np"
   ]
  },
  {
   "cell_type": "code",
   "execution_count": 7,
   "id": "b21dc9ff",
   "metadata": {},
   "outputs": [
    {
     "name": "stdout",
     "output_type": "stream",
     "text": [
      "Line starting: (535, 648) line ending: (751, 474)\n",
      "Line starting: (532, 510) line ending: (779, 335)\n",
      "Line starting: (226, 274) line ending: (462, 189)\n",
      "Line starting: (225, 274) line ending: (266, 415)\n"
     ]
    }
   ],
   "source": [
    "def draw_lines(event, x, y, flag, parameters):\n",
    "    global index, line_coord\n",
    "    if event == cv2.EVENT_LBUTTONDOWN:\n",
    "        line_coord = [(x,y)]\n",
    "    elif event == cv2.EVENT_LBUTTONUP:\n",
    "        line_coord.append((x,y))\n",
    "        print(f\"Line starting: {line_coord[0]} line ending: {line_coord[1]}\")\n",
    "\n",
    "        cv2.line(img, line_coord[0], line_coord[1],color[index],4)\n",
    "        cv2.imshow(\"image\", img)\n",
    "    elif event == cv2.EVENT_RBUTTONDOWN:\n",
    "        index  = (index + 1) % 3\n",
    "\n",
    "color = [(0,0,255),(0,255,0),(255,0,0)]\n",
    "line_coord = []\n",
    "index = 0\n",
    "\n",
    "img = cv2.imread(\"popcorn_box.jpg\")\n",
    "cv2.imshow('image', img)\n",
    "\n",
    "cv2.setMouseCallback('image', draw_lines)\n",
    "\n",
    "cv2.waitKey(0)\n",
    "cv2.imwrite(\"annotated.png\",img)\n",
    "cv2.destroyAllWindows()"
   ]
  },
  {
   "cell_type": "code",
   "execution_count": 8,
   "id": "f1e2531c",
   "metadata": {},
   "outputs": [],
   "source": [
    "#popcorn_box coordinates\n",
    "P1 = [535,648, 1]\n",
    "P2 = [750, 475, 1]\n",
    "P3 = [531, 510, 1]\n",
    "P4 = [780, 334, 1]\n",
    "P5 = [225, 274, 1]\n",
    "P6 = [462, 189, 1]\n",
    "P7 = [265, 414, 1]"
   ]
  },
  {
   "cell_type": "code",
   "execution_count": 11,
   "id": "b1e15db4",
   "metadata": {},
   "outputs": [],
   "source": [
    "x1_p1 = P1\n",
    "x1_p2 = P2\n",
    "\n",
    "y1_p1 = P1\n",
    "y1_p2 = P7\n",
    "\n",
    "z1_p1 = P1\n",
    "z1_p2 = P3\n",
    "\n",
    "x2_p1 = P3\n",
    "x2_p2 = P4\n",
    "\n",
    "y2_p1 = P3\n",
    "y2_p2 = P5\n",
    "\n",
    "z2_p1 = P2\n",
    "z2_p2 = P4\n",
    "\n",
    "x3_p1 = P5\n",
    "x3_p2 = P6\n",
    "\n",
    "y3_p1 = P4\n",
    "y3_p2 = P6\n",
    "\n",
    "z3_p1 = P7\n",
    "z3_p2 = P5\n"
   ]
  },
  {
   "cell_type": "code",
   "execution_count": 13,
   "id": "e29b9786",
   "metadata": {
    "collapsed": true
   },
   "outputs": [
    {
     "data": {
      "text/plain": [
       "array([[[187, 190, 188],\n",
       "        [187, 190, 188],\n",
       "        [187, 190, 188],\n",
       "        ...,\n",
       "        [  0,   2,  10],\n",
       "        [  1,   6,   9],\n",
       "        [  6,  11,  12]],\n",
       "\n",
       "       [[187, 190, 188],\n",
       "        [187, 190, 188],\n",
       "        [187, 190, 188],\n",
       "        ...,\n",
       "        [  0,   2,  10],\n",
       "        [  1,   6,   9],\n",
       "        [  5,  10,  11]],\n",
       "\n",
       "       [[187, 190, 188],\n",
       "        [187, 190, 188],\n",
       "        [187, 190, 188],\n",
       "        ...,\n",
       "        [  0,   2,  10],\n",
       "        [  1,   6,   9],\n",
       "        [  5,  10,  11]],\n",
       "\n",
       "       ...,\n",
       "\n",
       "       [[114, 126, 130],\n",
       "        [114, 126, 130],\n",
       "        [114, 126, 130],\n",
       "        ...,\n",
       "        [214, 219, 218],\n",
       "        [217, 222, 221],\n",
       "        [218, 223, 222]],\n",
       "\n",
       "       [[114, 126, 130],\n",
       "        [114, 126, 130],\n",
       "        [114, 126, 130],\n",
       "        ...,\n",
       "        [220, 225, 224],\n",
       "        [223, 228, 227],\n",
       "        [225, 230, 229]],\n",
       "\n",
       "       [[115, 127, 131],\n",
       "        [115, 127, 131],\n",
       "        [115, 127, 131],\n",
       "        ...,\n",
       "        [215, 220, 219],\n",
       "        [218, 223, 222],\n",
       "        [220, 225, 224]]], dtype=uint8)"
      ]
     },
     "execution_count": 13,
     "metadata": {},
     "output_type": "execute_result"
    }
   ],
   "source": [
    "cv2.line(img,(x1_p1[0],x1_p1[1]),(x1_p2[0],x1_p2[1]),(0,0,255),2)        \n",
    "cv2.line(img,(x2_p1[0],x2_p1[1]),(x2_p2[0],x2_p2[1]),(0,0,255),2)\n",
    "cv2.line(img,(x3_p1[0],x3_p1[1]),(x3_p2[0],x3_p2[1]),(0,0,255),2)\n",
    "\n",
    "cv2.line(img,(y1_p1[0],y1_p1[1]),(y1_p2[0],y1_p2[1]),(0,255,0),2)     \n",
    "cv2.line(img,(y2_p1[0],y2_p1[1]),(y2_p2[0],y2_p2[1]),(0,255,0),2)\n",
    "cv2.line(img,(y3_p1[0],y3_p1[1]),(y3_p2[0],y3_p2[1]),(0,255,0),2)\n",
    "\n",
    "cv2.line(img,(z1_p1[0],z1_p1[1]),(z1_p2[0],z1_p2[1]),(250,0,0),2)      \n",
    "cv2.line(img,(z2_p1[0],z2_p1[1]),(z2_p2[0],z2_p2[1]),(250,0,0),2)\n",
    "cv2.line(img,(z3_p1[0],z3_p1[1]),(z3_p2[0],z3_p2[1]),(255,0,0),2)\n"
   ]
  },
  {
   "cell_type": "code",
   "execution_count": 15,
   "id": "3c5682d5",
   "metadata": {},
   "outputs": [],
   "source": [
    "cv2.imshow('image', img)\n",
    "cv2.waitKey(0)\n",
    "cv2.destroyAllWindows()"
   ]
  },
  {
   "cell_type": "code",
   "execution_count": 16,
   "id": "9fe54e94",
   "metadata": {
    "collapsed": true
   },
   "outputs": [
    {
     "ename": "NameError",
     "evalue": "name 'image' is not defined",
     "output_type": "error",
     "traceback": [
      "\u001b[1;31m---------------------------------------------------------------------------\u001b[0m",
      "\u001b[1;31mNameError\u001b[0m                                 Traceback (most recent call last)",
      "Input \u001b[1;32mIn [16]\u001b[0m, in \u001b[0;36m<cell line: 1>\u001b[1;34m()\u001b[0m\n\u001b[1;32m----> 1\u001b[0m cv2\u001b[38;5;241m.\u001b[39mimwrite(\u001b[38;5;124m'\u001b[39m\u001b[38;5;124mannotated_image.png\u001b[39m\u001b[38;5;124m'\u001b[39m, \u001b[43mimage\u001b[49m)\n",
      "\u001b[1;31mNameError\u001b[0m: name 'image' is not defined"
     ]
    }
   ],
   "source": [
    "cv2.imwrite('annotated_image.png', img)"
   ]
  },
  {
   "cell_type": "code",
   "execution_count": 10,
   "id": "b1d45bfc",
   "metadata": {},
   "outputs": [],
   "source": [
    "coordinates = np.zeros((7,3))\n",
    "coordinates[0,:] = P1\n",
    "coordinates[1,:] = P2\n",
    "coordinates[2,:] = P3\n",
    "coordinates[3,:] = P4\n",
    "coordinates[4,:] = P5\n",
    "coordinates[5,:] = P6\n",
    "coordinates[6,:] = P7\n",
    "\n",
    "coordinates = np.array(coordinates)\n",
    "\n",
    "df = pd.DataFrame({\"X\" : coordinates[:,0], \"Y\" : coordinates[:,1], \"Z\" : coordinates[:,2]})\n",
    "df.to_csv(\"coordinates.csv\", index=False)"
   ]
  }
 ],
 "metadata": {
  "kernelspec": {
   "display_name": "Python 3 (ipykernel)",
   "language": "python",
   "name": "python3"
  },
  "language_info": {
   "codemirror_mode": {
    "name": "ipython",
    "version": 3
   },
   "file_extension": ".py",
   "mimetype": "text/x-python",
   "name": "python",
   "nbconvert_exporter": "python",
   "pygments_lexer": "ipython3",
   "version": "3.9.12"
  }
 },
 "nbformat": 4,
 "nbformat_minor": 5
}
