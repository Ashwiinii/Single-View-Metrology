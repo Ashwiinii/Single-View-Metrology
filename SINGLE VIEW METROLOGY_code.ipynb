{
 "cells": [
  {
   "cell_type": "code",
   "execution_count": 345,
   "id": "0ff16c0d",
   "metadata": {},
   "outputs": [],
   "source": [
    "import numpy as np\n",
    "import cv2\n",
    "import pandas as pd\n",
    "from matplotlib import pyplot as plt"
   ]
  },
  {
   "cell_type": "code",
   "execution_count": 350,
   "id": "84142402",
   "metadata": {},
   "outputs": [],
   "source": [
    "image = cv2.imread('popcorn_box.jpg')"
   ]
  },
  {
   "cell_type": "code",
   "execution_count": 351,
   "id": "c24e245c",
   "metadata": {},
   "outputs": [],
   "source": [
    "df = pd.read_csv('coordinates.csv');\n",
    "coordinates = np.array(df)\n",
    "\n",
    "P1 = coordinates[0]\n",
    "P2 = coordinates[1]\n",
    "P3 = coordinates[2]\n",
    "P4 = coordinates[3]\n",
    "P5 = coordinates[4]\n",
    "P6 = coordinates[5]\n",
    "P7 = coordinates[6]"
   ]
  },
  {
   "cell_type": "code",
   "execution_count": 352,
   "id": "6fd83269",
   "metadata": {},
   "outputs": [],
   "source": [
    "x1_p1 = P1\n",
    "x1_p2 = P2\n",
    "\n",
    "y1_p1 = P1\n",
    "y1_p2 = P7\n",
    "\n",
    "z1_p1 = P1\n",
    "z1_p2 = P3"
   ]
  },
  {
   "cell_type": "code",
   "execution_count": 353,
   "id": "fe6a9307",
   "metadata": {},
   "outputs": [],
   "source": [
    "cv2.imshow('pop', image)\n",
    "cv2.waitKey(0)\n",
    "cv2.destroyAllWindows()"
   ]
  },
  {
   "cell_type": "code",
   "execution_count": 354,
   "id": "48168cab",
   "metadata": {},
   "outputs": [],
   "source": [
    "x2_p1 = P3\n",
    "x2_p2 = P4\n",
    "\n",
    "y2_p1 = P3\n",
    "y2_p2 = P5\n",
    "\n",
    "z2_p1 = P2\n",
    "z2_p2 = P4"
   ]
  },
  {
   "cell_type": "code",
   "execution_count": 355,
   "id": "3bc11317",
   "metadata": {},
   "outputs": [],
   "source": [
    "x3_p1 = P5\n",
    "x3_p2 = P6\n",
    "\n",
    "y3_p1 = P4\n",
    "y3_p2 = P6\n",
    "\n",
    "z3_p1 = P7\n",
    "z3_p2 = P5"
   ]
  },
  {
   "cell_type": "markdown",
   "id": "cd4d530d",
   "metadata": {},
   "source": [
    "## Compute Vanishing points"
   ]
  },
  {
   "cell_type": "code",
   "execution_count": 356,
   "id": "0133bb24",
   "metadata": {},
   "outputs": [],
   "source": [
    "ax1,bx1,cx1 = np.cross(x1_p1,x1_p2) #obtain co-efficients of line equation of line X1\n",
    "ax2,bx2,cx2 = np.cross(x2_p1,x2_p2)#obtain co-efficients of line equation of line X2\n",
    "Vx = np.cross([ax1,bx1,cx1],[ax2,bx2,cx2]) #taking cross product of line X1 and X2 gives the point at which the 2 lines meet i.e., the vanishing point"
   ]
  },
  {
   "cell_type": "code",
   "execution_count": 357,
   "id": "bd82b1fb",
   "metadata": {},
   "outputs": [],
   "source": [
    "ay1,by1,cy1 = np.cross(y1_p1,y1_p2) #line Y1\n",
    "ay2,by2,cy2 = np.cross(y2_p1,y2_p2) #line Y2\n",
    "Vy = np.cross([ay1,by1,cy1],[ay2,by2,cy2]) #intersection of Y1 and Y2 gives vanishing point"
   ]
  },
  {
   "cell_type": "code",
   "execution_count": 358,
   "id": "9d531f21",
   "metadata": {},
   "outputs": [],
   "source": [
    "az1,bz1,cz1 = np.cross(z1_p1,z1_p2) #line Z1\n",
    "az2,bz2,cz2 = np.cross(z2_p1,z2_p2) #line Z2\n",
    "Vz = np.cross([az1,bz1,cz1],[az2,bz2,cz2]) #intersection of Z1 and Z2 gives vanishing point"
   ]
  },
  {
   "cell_type": "code",
   "execution_count": 359,
   "id": "7b1ffe3d",
   "metadata": {
    "scrolled": true
   },
   "outputs": [
    {
     "name": "stdout",
     "output_type": "stream",
     "text": [
      "Hence the Vanishing points for this image are :\n",
      "Along x-axis :  [ 1.0340985e+07 -2.6728420e+06  5.2370000e+03]\n",
      "Along y-axis :  [6928740. 4551624.   -7884.]\n",
      "Along z-axis :  [2.617140e+06 6.515442e+06 4.704000e+03]\n"
     ]
    }
   ],
   "source": [
    "print(\"Hence the Vanishing points for this image are :\")\n",
    "print(\"Along x-axis : \", Vx)\n",
    "print(\"Along y-axis : \", Vy)\n",
    "print(\"Along z-axis : \", Vz)"
   ]
  },
  {
   "cell_type": "code",
   "execution_count": 360,
   "id": "eceff32e",
   "metadata": {},
   "outputs": [],
   "source": [
    "# To obtain VP in homogenous co-ordinate system i.e., of the form (x, y, 1), divide by the third co-efficient\n",
    "Vx = Vx/Vx[2]\n",
    "Vy = Vy/Vy[2]\n",
    "Vz = Vz/Vz[2]"
   ]
  },
  {
   "cell_type": "code",
   "execution_count": 361,
   "id": "b5237ab0",
   "metadata": {},
   "outputs": [
    {
     "name": "stdout",
     "output_type": "stream",
     "text": [
      "Hence the Vanishing points for this image in homogeneous form are :\n",
      "Along x-axis :  [ 1.97460092e+03 -5.10376551e+02  1.00000000e+00]\n",
      "Along y-axis :  [-878.83561644 -577.32420091    1.        ]\n",
      "Along z-axis :  [5.56364796e+02 1.38508546e+03 1.00000000e+00]\n"
     ]
    }
   ],
   "source": [
    "print(\"Hence the Vanishing points for this image in homogeneous form are :\")\n",
    "print(\"Along x-axis : \", Vx)\n",
    "print(\"Along y-axis : \", Vy)\n",
    "print(\"Along z-axis : \", Vz)"
   ]
  },
  {
   "cell_type": "markdown",
   "id": "e70a6d8b",
   "metadata": {},
   "source": [
    "## Computing Projection Matrix "
   ]
  },
  {
   "cell_type": "code",
   "execution_count": 362,
   "id": "6cc560e1",
   "metadata": {},
   "outputs": [],
   "source": [
    "wo = P1 #world origin\n",
    "ref_x = P2\n",
    "ref_y = P7\n",
    "ref_z = P3"
   ]
  },
  {
   "cell_type": "code",
   "execution_count": 363,
   "id": "6de95020",
   "metadata": {},
   "outputs": [],
   "source": [
    "# reference axis distance from World Origin\n",
    "ref_x_dis = np.sqrt(np.sum(np.square(np.array([ref_x]) - wo)))   \n",
    "ref_y_dis = np.sqrt(np.sum(np.square(np.array([ref_y]) - wo)))   \n",
    "ref_z_dis = np.sqrt(np.sum(np.square(np.array([ref_z]) - wo)))   "
   ]
  },
  {
   "cell_type": "code",
   "execution_count": 364,
   "id": "96a70b10",
   "metadata": {},
   "outputs": [
    {
     "name": "stderr",
     "output_type": "stream",
     "text": [
      "C:\\Users\\ashwi\\AppData\\Local\\Temp\\ipykernel_9272\\2746440933.py:2: FutureWarning: `rcond` parameter will change to the default of machine precision times ``max(M, N)`` where M and N are the input matrix dimensions.\n",
      "To use the future default and silence this warning we advise to pass `rcond=None`, to keep using the old, explicitly pass `rcond=-1`.\n",
      "  ax,_,_,_ = np.linalg.lstsq( (np.array([Vx]) - wo).T , (np.array([ref_x]) - wo).T )\n",
      "C:\\Users\\ashwi\\AppData\\Local\\Temp\\ipykernel_9272\\2746440933.py:5: FutureWarning: `rcond` parameter will change to the default of machine precision times ``max(M, N)`` where M and N are the input matrix dimensions.\n",
      "To use the future default and silence this warning we advise to pass `rcond=None`, to keep using the old, explicitly pass `rcond=-1`.\n",
      "  ay,_,_,_ = np.linalg.lstsq( (np.array([Vy]) - wo).T , (np.array([ref_y]) - wo).T )\n",
      "C:\\Users\\ashwi\\AppData\\Local\\Temp\\ipykernel_9272\\2746440933.py:8: FutureWarning: `rcond` parameter will change to the default of machine precision times ``max(M, N)`` where M and N are the input matrix dimensions.\n",
      "To use the future default and silence this warning we advise to pass `rcond=None`, to keep using the old, explicitly pass `rcond=-1`.\n",
      "  az,_,_,_ = np.linalg.lstsq( (np.array([Vz]) - wo).T , (np.array([ref_z]) - wo).T )\n"
     ]
    }
   ],
   "source": [
    "#compute scaling constants evaluated wrt reference points \n",
    "ax,_,_,_ = np.linalg.lstsq( (np.array([Vx]) - wo).T , (np.array([ref_x]) - wo).T )\n",
    "ax = ax[0][0]/ref_x_dis\n",
    "\n",
    "ay,_,_,_ = np.linalg.lstsq( (np.array([Vy]) - wo).T , (np.array([ref_y]) - wo).T )\n",
    "ay = ay[0][0]/ref_y_dis\n",
    "\n",
    "az,_,_,_ = np.linalg.lstsq( (np.array([Vz]) - wo).T , (np.array([ref_z]) - wo).T )\n",
    "az = az[0][0]/ref_z_dis"
   ]
  },
  {
   "cell_type": "code",
   "execution_count": 365,
   "id": "8c0442b3",
   "metadata": {},
   "outputs": [],
   "source": [
    "px = ax*Vx\n",
    "py = ay*Vy\n",
    "pz = az*Vz"
   ]
  },
  {
   "cell_type": "code",
   "execution_count": 366,
   "id": "654d2fd2",
   "metadata": {},
   "outputs": [
    {
     "data": {
      "text/plain": [
       "' variable description of P : px, py, pz, wo are arranged as columns in P '"
      ]
     },
     "execution_count": 366,
     "metadata": {},
     "output_type": "execute_result"
    }
   ],
   "source": [
    "P = np.zeros([3,4])\n",
    "P[:,0] = px\n",
    "P[:,1] = py\n",
    "P[:,2] = pz\n",
    "P[:,3] = wo\n",
    "\"\"\" variable description of P : px, py, pz, wo are arranged as columns in P \"\"\""
   ]
  },
  {
   "cell_type": "code",
   "execution_count": 367,
   "id": "897bf34e",
   "metadata": {},
   "outputs": [
    {
     "data": {
      "text/plain": [
       "array([[ 1.06863482e+00, -4.69733874e-01, -7.54500334e-01,\n",
       "         5.35000000e+02],\n",
       "       [-2.76210827e-01, -3.08577313e-01, -1.87834933e+00,\n",
       "         6.48000000e+02],\n",
       "       [ 5.41190277e-04,  5.34495718e-04, -1.35612523e-03,\n",
       "         1.00000000e+00]])"
      ]
     },
     "execution_count": 367,
     "metadata": {},
     "output_type": "execute_result"
    }
   ],
   "source": [
    "P"
   ]
  },
  {
   "cell_type": "markdown",
   "id": "f3f8cc25",
   "metadata": {},
   "source": [
    "## Computing Homograph matrix"
   ]
  },
  {
   "cell_type": "code",
   "execution_count": 368,
   "id": "0a5119f4",
   "metadata": {},
   "outputs": [
    {
     "data": {
      "text/plain": [
       "(array([[0., 0., 0.],\n",
       "        [0., 0., 0.],\n",
       "        [0., 0., 0.]]),\n",
       " array([[0., 0., 0.],\n",
       "        [0., 0., 0.],\n",
       "        [0., 0., 0.]]),\n",
       " array([[0., 0., 0.],\n",
       "        [0., 0., 0.],\n",
       "        [0., 0., 0.]]))"
      ]
     },
     "execution_count": 368,
     "metadata": {},
     "output_type": "execute_result"
    }
   ],
   "source": [
    "Hxy = np.zeros((3,3))\n",
    "Hyz = np.zeros((3,3))\n",
    "Hzx = np.zeros((3,3))\n",
    "Hxy, Hyz, Hzx"
   ]
  },
  {
   "cell_type": "code",
   "execution_count": 369,
   "id": "6bcce60b",
   "metadata": {},
   "outputs": [],
   "source": [
    "Hxy[:,0] = px\n",
    "Hxy[:,1] = py\n",
    "Hxy[:,2] = wo\n",
    "\n",
    "Hyz[:,0] = py\n",
    "Hyz[:,1] = pz\n",
    "Hyz[:,2] = wo\n",
    "\n",
    "Hzx[:,0] = px\n",
    "Hzx[:,1] = pz\n",
    "Hzx[:,2] = wo"
   ]
  },
  {
   "cell_type": "code",
   "execution_count": 370,
   "id": "747ff842",
   "metadata": {},
   "outputs": [],
   "source": [
    "row,col,_ = image.shape"
   ]
  },
  {
   "cell_type": "code",
   "execution_count": 371,
   "id": "0c49995a",
   "metadata": {},
   "outputs": [],
   "source": [
    "warp_xy = cv2.warpPerspective(image,Hxy,(row,col),flags=cv2.WARP_INVERSE_MAP)\n",
    "warp_yz = cv2.warpPerspective(image,Hyz,(row,col),flags=cv2.WARP_INVERSE_MAP)\n",
    "warp_zx = cv2.warpPerspective(image,Hzx,(row,col),flags=cv2.WARP_INVERSE_MAP)"
   ]
  },
  {
   "cell_type": "code",
   "execution_count": 372,
   "id": "d45cf9a4",
   "metadata": {},
   "outputs": [],
   "source": [
    "cv2.imshow(\"Txy\",warp_xy)\n",
    "cv2.imshow(\"Tyz\",warp_yz)\n",
    "cv2.imshow(\"Tzx\",warp_zx)\n",
    "\n",
    "cv2.waitKey(0)\n",
    "cv2.destroyAllWindows()"
   ]
  },
  {
   "cell_type": "code",
   "execution_count": 373,
   "id": "325d755e",
   "metadata": {},
   "outputs": [
    {
     "data": {
      "text/plain": [
       "True"
      ]
     },
     "execution_count": 373,
     "metadata": {},
     "output_type": "execute_result"
    }
   ],
   "source": [
    "cv2.imwrite(\"Hxy.png\", warp_xy)\n",
    "cv2.imwrite(\"Hyz.png\", warp_yz)\n",
    "cv2.imwrite(\"Hzx.png\", warp_zx)\n"
   ]
  },
  {
   "cell_type": "code",
   "execution_count": null,
   "id": "178ff1f9",
   "metadata": {},
   "outputs": [],
   "source": []
  }
 ],
 "metadata": {
  "kernelspec": {
   "display_name": "Python 3 (ipykernel)",
   "language": "python",
   "name": "python3"
  },
  "language_info": {
   "codemirror_mode": {
    "name": "ipython",
    "version": 3
   },
   "file_extension": ".py",
   "mimetype": "text/x-python",
   "name": "python",
   "nbconvert_exporter": "python",
   "pygments_lexer": "ipython3",
   "version": "3.9.12"
  }
 },
 "nbformat": 4,
 "nbformat_minor": 5
}
